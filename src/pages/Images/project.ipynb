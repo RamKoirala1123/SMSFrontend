{
 "cells": [
  {
   "cell_type": "markdown",
   "metadata": {},
   "source": [
    "# Introduction To Python\n",
    "## Section 1 - Data Types"
   ]
  },
  {
   "cell_type": "markdown",
   "metadata": {},
   "source": [
    "Bonjour!  \n",
    "Le projet suivant a pour but de reprendre les cours dispensés .  \n",
    "Suivez progressivement les différentes cellules\n",
    "Exécutez chaque cellule puis enregistrez sous format pdf et envoyez le fomat pdf et notebook sur mon mail"
   ]
  },
  {
   "cell_type": "markdown",
   "metadata": {},
   "source": [
    "-1 Display: \"WELCOME to Python"
   ]
  },
  {
   "cell_type": "code",
   "execution_count": 1,
   "metadata": {
    "collapsed": true
   },
   "outputs": [
    {
     "name": "stdout",
     "output_type": "stream",
     "text": [
      "Welcome to Introduction to Python\n"
     ]
    }
   ],
   "source": [
    "print()"
   ]
  },
  {
   "cell_type": "markdown",
   "metadata": {},
   "source": [
    "-2 Create two variables a and b\n",
    "-Assign to a the sentence \"First part, \" and to b the sentence \"Second\".\n",
    "-Display a\n",
    "-Display a+b"
   ]
  },
  {
   "cell_type": "code",
   "execution_count": null,
   "metadata": {
    "collapsed": true
   },
   "outputs": [],
   "source": [
    "\n",
    "a = \n",
    "b = \n",
    "print()\n",
    "print()"
   ]
  },
  {
   "cell_type": "markdown",
   "metadata": {},
   "source": [
    "-3 Create the tagline variable and assign it the phrase \"Hitachi,Inspire the Next\"\n",
    "Display \"tagline=\"+ tagline"
   ]
  },
  {
   "cell_type": "code",
   "execution_count": 4,
   "metadata": {
    "collapsed": true
   },
   "outputs": [
    {
     "name": "stdout",
     "output_type": "stream",
     "text": [
      "tagline=Hitachi,Inspire the Next\n"
     ]
    }
   ],
   "source": [
    "tagline = \n",
    "print( )"
   ]
  },
  {
   "cell_type": "markdown",
   "metadata": {},
   "source": [
    "-4\n",
    "Create the numerical variables a and b \n",
    "Display the addition of a and b\n",
    "do the subtraction\n",
    "do the division\n",
    "do the multiplication\n",
    "Display the addition, the multiplication, the division, the subtraction\n",
    "Display only the integer part of the division"
   ]
  },
  {
   "cell_type": "code",
   "execution_count": 5,
   "metadata": {
    "collapsed": true
   },
   "outputs": [
    {
     "name": "stdout",
     "output_type": "stream",
     "text": [
      "25\n"
     ]
    }
   ],
   "source": [
    "a = \n",
    "b = \n",
    "print()"
   ]
  },
  {
   "cell_type": "markdown",
   "metadata": {},
   "source": [
    "-5\n",
    "Assign to the variable x the square of a\n",
    "Assign to the variable y the cube of b\n",
    "Add a and b"
   ]
  },
  {
   "cell_type": "code",
   "execution_count": 13,
   "metadata": {
    "collapsed": true
   },
   "outputs": [
    {
     "name": "stdout",
     "output_type": "stream",
     "text": [
      "25\n"
     ]
    }
   ],
   "source": [
    "x=\n",
    "y=\n",
    "print()"
   ]
  },
  {
   "cell_type": "markdown",
   "metadata": {},
   "source": [
    "-6\n",
    "Create the variable my_str which corresponds to \"I have {} apples and {} pears\"\n",
    "Create the numeric variables apples and pears and give them a value\n",
    "Display my_str.format(apples,pears)"
   ]
  },
  {
   "cell_type": "code",
   "execution_count": 14,
   "metadata": {
    "collapsed": true
   },
   "outputs": [
    {
     "name": "stdout",
     "output_type": "stream",
     "text": [
      "I have 5 apples and 4 pears\n"
     ]
    }
   ],
   "source": [
    "\n",
    "my_str = \n",
    "\n",
    "\n",
    "apples = \n",
    "pears = \n",
    "\n",
    "print()"
   ]
  },
  {
   "cell_type": "markdown",
   "metadata": {},
   "source": [
    "-7 \n",
    "Create the example_list of your choice\n",
    "Display the first value of the list"
   ]
  },
  {
   "cell_type": "code",
   "execution_count": 19,
   "metadata": {
    "collapsed": true
   },
   "outputs": [
    {
     "data": {
      "text/plain": [
       "'Crackle'"
      ]
     },
     "execution_count": 19,
     "metadata": {},
     "output_type": "execute_result"
    }
   ],
   "source": [
    "example_list = \n",
    "\n",
    "\n"
   ]
  },
  {
   "cell_type": "markdown",
   "metadata": {},
   "source": [
    "-8a\n",
    "Create the list my_list of 8 elements\n",
    "Display the last element of the list in 2 ways"
   ]
  },
  {
   "cell_type": "code",
   "execution_count": 21,
   "metadata": {
    "collapsed": true
   },
   "outputs": [
    {
     "data": {
      "text/plain": [
       "'cake'"
      ]
     },
     "execution_count": 21,
     "metadata": {},
     "output_type": "execute_result"
    }
   ],
   "source": [
    "my_list=\n"
   ]
  },
  {
   "cell_type": "markdown",
   "metadata": {},
   "source": [
    "-8b\n",
    "-Create the hitachi dictionary containing the following elements\n",
    "\"Name\": \"Hitachi Ltd\",\n",
    "    \"Employees\": 333150,\n",
    "    \"Revenue_EUR\": 75092000000,\n",
    "    \"HQ\": \"Tokyo, Japan\",\n",
    "    \"Founding_Year\": 1910,\n",
    "    \"Founding_Spirit\": [\"Wa\", \"Makoto\", \"Kaitakusha-Sieshin\"]\n",
    "-Display the dictionary\n",
    "-Display the value of the item 'Revenue_EUR"
   ]
  },
  {
   "cell_type": "code",
   "execution_count": 43,
   "metadata": {
    "collapsed": true
   },
   "outputs": [
    {
     "name": "stdout",
     "output_type": "stream",
     "text": [
      "{'Name': 'Hitachi Ltd', 'Employees': 333150, 'Revenue_EUR': 75092000000, 'HQ': 'Tokyo, Japan', 'Founding_Year': 1910, 'Founding_Spirit': ['Wa', 'Makoto', 'Kaitakusha-Sieshin']}\n"
     ]
    }
   ],
   "source": [
    "hitachi = { \n",
    "    \n",
    "}\n",
    "print(hitachi)"
   ]
  },
  {
   "cell_type": "markdown",
   "metadata": {},
   "source": [
    " display the year hitachi was founded"
   ]
  },
  {
   "cell_type": "code",
   "execution_count": 47,
   "metadata": {
    "collapsed": true
   },
   "outputs": [
    {
     "data": {
      "text/plain": [
       "1910"
      ]
     },
     "execution_count": 47,
     "metadata": {},
     "output_type": "execute_result"
    }
   ],
   "source": []
  },
  {
   "cell_type": "markdown",
   "metadata": {},
   "source": [
    "## Section 2 - Fonctions"
   ]
  },
  {
   "cell_type": "markdown",
   "metadata": {},
   "source": [
    "-9\n",
    "Create a function that adds 2 variables\n",
    "Use this function for 2 numbers that you choose"
   ]
  },
  {
   "cell_type": "code",
   "execution_count": 49,
   "metadata": {},
   "outputs": [],
   "source": [
    "def add_numbers():\n",
    "    y = \n",
    "    print()"
   ]
  },
  {
   "cell_type": "markdown",
   "metadata": {},
   "source": [
    "-10\n",
    "Create the Happy_birthday function with the variable name\n",
    "Display \"Happy Birthday to you\"\n",
    "Display \"Happy Birthday to you\"\n",
    "Display \"Happy Birthday dear \" + name\n",
    "Display \"Happy Birthday to you\"\n",
    "Use the function with your name and display"
   ]
  },
  {
   "cell_type": "code",
   "execution_count": 53,
   "metadata": {},
   "outputs": [],
   "source": [
    "def happy_birthday(name):\n",
    "    print()\n",
    "    print()\n",
    "    print()\n",
    "    print()"
   ]
  },
  {
   "cell_type": "markdown",
   "metadata": {},
   "source": [
    "-11\n",
    "Create the pro_numbers function with two input variables\n",
    "Calculate the multiplication of the 2 variables plus 5\n",
    "Use the function for 2 numbers of vo"
   ]
  },
  {
   "cell_type": "code",
   "execution_count": 70,
   "metadata": {},
   "outputs": [],
   "source": [
    "def pro_numbers():\n",
    "    y = \n",
    "    print()\n",
    "    "
   ]
  },
  {
   "cell_type": "markdown",
   "metadata": {},
   "source": [
    "#### Logical Operators\n"
   ]
  },
  {
   "cell_type": "markdown",
   "metadata": {},
   "source": [
    "-12\n",
    "Test equality\n",
    "test the difference\n",
    "test superiority\n",
    "test inferiority\n",
    "for two variables of your choice"
   ]
  },
  {
   "cell_type": "code",
   "execution_count": 67,
   "metadata": {
    "collapsed": true
   },
   "outputs": [
    {
     "name": "stdout",
     "output_type": "stream",
     "text": [
      "False\n",
      "False\n",
      "False\n",
      "False\n",
      "False\n",
      "False\n"
     ]
    }
   ],
   "source": [
    "print()\n",
    "print()\n",
    "print()\n",
    "print()\n",
    "\n"
   ]
  },
  {
   "cell_type": "markdown",
   "metadata": {},
   "source": [
    "-13\n",
    "Choose a number"
   ]
  },
  {
   "cell_type": "code",
   "execution_count": 68,
   "metadata": {},
   "outputs": [],
   "source": [
    "num = "
   ]
  },
  {
   "cell_type": "markdown",
   "metadata": {},
   "source": [
    "test the function"
   ]
  },
  {
   "cell_type": "code",
   "execution_count": 69,
   "metadata": {
    "collapsed": true
   },
   "outputs": [
    {
     "name": "stdout",
     "output_type": "stream",
     "text": [
      "24 is positive\n",
      "24 is not five\n"
     ]
    }
   ],
   "source": [
    "if num < 0:\n",
    "    print(\"{} is negative\".format(num))\n",
    "elif num > 0:\n",
    "    print(\"{} is positive\".format(num))\n",
    "else:\n",
    "    print(\"{} is zero\".format(num))\n",
    "\n",
    "if num != 5:\n",
    "    print(\"{} is not five\".format(num))\n",
    "else:\n",
    "    print(\"{} is five\".format(num))"
   ]
  },
  {
   "cell_type": "markdown",
   "metadata": {},
   "source": [
    "-14\n",
    "Choose between \"European\" and \"African\" and test the function"
   ]
  },
  {
   "cell_type": "code",
   "execution_count": 82,
   "metadata": {},
   "outputs": [],
   "source": [
    "def swallow_velocity(x):\n",
    "    if type == \"European\":\n",
    "        print(\"12 m/s\")\n",
    "    elif type == \"African\":\n",
    "        print(\"10 m/s\")\n",
    "    else:\n",
    "        print(\"I don't know that type of swallow\")"
   ]
  },
  {
   "cell_type": "markdown",
   "metadata": {},
   "source": [
    "-15\n",
    "Create a function that calculates the square root"
   ]
  },
  {
   "cell_type": "code",
   "execution_count": 86,
   "metadata": {},
   "outputs": [],
   "source": [
    "def print_square_root(x):\n",
    "\n"
   ]
  },
  {
   "cell_type": "markdown",
   "metadata": {},
   "source": [
    "Use this function for this number 41370624"
   ]
  },
  {
   "cell_type": "code",
   "execution_count": 87,
   "metadata": {},
   "outputs": [],
   "source": [
    "print_square_root()"
   ]
  },
  {
   "cell_type": "markdown",
   "metadata": {},
   "source": [
    "-16\n",
    "Choose a number and test"
   ]
  },
  {
   "cell_type": "code",
   "execution_count": 88,
   "metadata": {
    "collapsed": true
   },
   "outputs": [
    {
     "name": "stdout",
     "output_type": "stream",
     "text": [
      "24 is divisible by six\n"
     ]
    }
   ],
   "source": [
    "num = \n",
    "\n",
    "if (num % 2 == 0) and (num % 3 == 0):\n",
    "    print(\"{} is divisible by six\".format(num))\n",
    "else:\n",
    "    print(\"{} is not divisible by six\".format(num))\n",
    "\n",
    "if isinstance(num, int) and (num > 0) and (num < 10):\n",
    "    print(\"{} is a positive single digit\".format(num))"
   ]
  },
  {
   "cell_type": "markdown",
   "metadata": {},
   "source": [
    "-17\n",
    "Choose a level and test"
   ]
  },
  {
   "cell_type": "code",
   "execution_count": 89,
   "metadata": {
    "collapsed": true
   },
   "outputs": [
    {
     "name": "stdout",
     "output_type": "stream",
     "text": [
      "Other\n"
     ]
    }
   ],
   "source": [
    "level = \"\"\n",
    "\n",
    "if level == \"C1\" or level == \"C2\":\n",
    "    position = \"Consultant\"\n",
    "elif level == \"SC1\" or level == \"SC2\":\n",
    "    position = \"Senior Consultant\"\n",
    "elif level == \"M1\" or level == \"M2\" or level == \"M3\":\n",
    "    position = \"Manager\"\n",
    "elif level == \"SM1\" or level == \"SM2\":\n",
    "    position = \"Senior Manager\"\n",
    "elif level == \"DCS\":\n",
    "    position = \"Director\"\n",
    "elif level == \"VP\":\n",
    "    position = \"Vice President\"\n",
    "else:\n",
    "    position = \"Other\"\n",
    "\n",
    "print(position)"
   ]
  },
  {
   "cell_type": "markdown",
   "metadata": {},
   "source": [
    "-18\n",
    "Choose values for string_1 and string_2 and test"
   ]
  },
  {
   "cell_type": "code",
   "execution_count": 90,
   "metadata": {
    "collapsed": true
   },
   "outputs": [
    {
     "name": "stdout",
     "output_type": "stream",
     "text": [
      "String 1 is a substring of String 2\n"
     ]
    }
   ],
   "source": [
    "# String\n",
    "string_1 = \" \"\n",
    "string_2 = \" \"\n",
    "\n",
    "if string_1 in string_2:\n",
    "    print(\"String 1 is a substring of String 2\")\n",
    "else:\n",
    "    print(\"String 1 is not a substring of String 2\")"
   ]
  },
  {
   "cell_type": "markdown",
   "metadata": {},
   "source": [
    "## Section 3 - Loops"
   ]
  },
  {
   "cell_type": "markdown",
   "metadata": {},
   "source": [
    "-19\n",
    "test the function by replacing x and y"
   ]
  },
  {
   "cell_type": "code",
   "execution_count": 93,
   "metadata": {
    "collapsed": true
   },
   "outputs": [
    {
     "name": "stdout",
     "output_type": "stream",
     "text": [
      "None Shall Pass\n",
      "Tis but a scratch\n",
      "It's just a flesh wound\n",
      "I'm Invincible\n",
      "All right, we'll call it a draw.\n"
     ]
    }
   ],
   "source": [
    "# You can loop through the list and run conditionals on each number\n",
    "for missing_limbs in range(x, y):\n",
    "    if missing_limbs == 0:\n",
    "        print(\"None Shall Pass\")\n",
    "    elif missing_limbs == 1:\n",
    "        print(\"Tis but a scratch\")\n",
    "    elif missing_limbs == 2:\n",
    "        print(\"It's just a flesh wound\")\n",
    "    elif missing_limbs == 3:\n",
    "        print(\"I'm Invincible\")\n",
    "    elif missing_limbs == 4:\n",
    "        print(\"All right, we'll call it a draw.\")"
   ]
  },
  {
   "cell_type": "code",
   "execution_count": 96,
   "metadata": {
    "collapsed": true
   },
   "outputs": [
    {
     "name": "stdout",
     "output_type": "stream",
     "text": [
      "None Shall Pass\n",
      "None Shall Pass\n",
      "None Shall Pass\n",
      "None Shall Pass\n"
     ]
    }
   ],
   "source": [
    "for missing_limbs in range(x, y):\n",
    "    if missing_limbs /1:\n",
    "        print(\"None Shall Pass\")\n",
    "    elif missing_limbs / 2:\n",
    "        print(\"Tis but a scratch\")\n",
    "    elif missing_limbs / 2:\n",
    "        print(\"It's just a flesh wound\")\n",
    "    elif missing_limbs / 3:\n",
    "        print(\"I'm Invincible\")\n",
    "    elif missing_limbs / 4:\n",
    "        print(\"All right, we'll call it a draw.\")"
   ]
  },
  {
   "cell_type": "markdown",
   "metadata": {},
   "source": [
    "-20\n",
    "Create food_list and test"
   ]
  },
  {
   "cell_type": "code",
   "execution_count": 97,
   "metadata": {
    "collapsed": true
   },
   "outputs": [
    {
     "name": "stdout",
     "output_type": "stream",
     "text": [
      "I don't want Spaghetti, I want spam\n",
      "I don't want Coconuts, I want spam\n",
      "Yum, spam!\n"
     ]
    }
   ],
   "source": [
    "food_list = \n",
    "\n",
    "for food in food_list:\n",
    "    if food == \"Spam\":\n",
    "        print(\"Yum, spam!\")\n",
    "        break\n",
    "    else:\n",
    "        print(\"I don't want \" + food + \", I want spam\")"
   ]
  },
  {
   "cell_type": "markdown",
   "metadata": {},
   "source": [
    "-21\n",
    "Create\n",
    "stock_prices = {'IBM': 146.48, 'MSFT': 44.11, 'CSCO': 25.54, 'AAPL': 108.48, 'HTHIY': 493.57}\n",
    "and test the function"
   ]
  },
  {
   "cell_type": "markdown",
   "metadata": {},
   "source": [
    "-22\n",
    "Create\n",
    "stock_prices = {'cake': 146.48, 'cookies': 44.11, 'choo': 25.54, 'bi': 108.48, 'at': 493.57}\n",
    "and test the function"
   ]
  },
  {
   "cell_type": "code",
   "execution_count": 99,
   "metadata": {},
   "outputs": [
    {
     "name": "stdout",
     "output_type": "stream",
     "text": [
      "The price of cake is $146.48\n",
      "The price of cookies is $44.11\n",
      "The price of choo is $25.54\n",
      "The price of bi is $108.48\n",
      "The price of at is $493.57\n"
     ]
    }
   ],
   "source": [
    "\n",
    "for stock in stock_prices:\n",
    "    print(\"The price of {} is ${}\".format(stock, stock_prices[stock]))"
   ]
  },
  {
   "cell_type": "markdown",
   "metadata": {},
   "source": [
    "-23\n",
    "Give values to a and b and test"
   ]
  },
  {
   "cell_type": "code",
   "execution_count": 100,
   "metadata": {
    "collapsed": true
   },
   "outputs": [
    {
     "name": "stdout",
     "output_type": "stream",
     "text": [
      "1 is less than 5\n",
      "2 is less than 5\n",
      "3 is less than 5\n",
      "4 is less than 5\n",
      "5 is not less than 5\n"
     ]
    }
   ],
   "source": [
    "a = \n",
    "b = \n",
    "while b < a:\n",
    "    print(\"{} is less than {}\".format(b, a))\n",
    "    b += 1\n",
    "print(\"{} is not less than {}\".format(b, a))"
   ]
  },
  {
   "cell_type": "code",
   "execution_count": 101,
   "metadata": {
    "collapsed": true
   },
   "outputs": [
    {
     "name": "stdout",
     "output_type": "stream",
     "text": [
      "5 is not less than 5\n"
     ]
    }
   ],
   "source": [
    "a ==\n",
    "b == \n",
    "while b > a:\n",
    "    print(\"{} is less than {}\".format(b, a))\n",
    "    b += 1\n",
    "print(\"{} is not less than {}\".format(b, a))"
   ]
  },
  {
   "cell_type": "markdown",
   "metadata": {},
   "source": [
    "#### List comprehensions\n",
    "Create a list my_list\n",
    "Test the following functions"
   ]
  },
  {
   "cell_type": "code",
   "execution_count": 102,
   "metadata": {},
   "outputs": [],
   "source": [
    "my_list = "
   ]
  },
  {
   "cell_type": "code",
   "execution_count": 103,
   "metadata": {
    "collapsed": true
   },
   "outputs": [
    {
     "data": {
      "text/plain": [
       "[1, 5, 7, 15, 35]"
      ]
     },
     "execution_count": 103,
     "metadata": {},
     "output_type": "execute_result"
    }
   ],
   "source": [
    "odd_numbers_from_my_list = []\n",
    "for i in my_list:\n",
    "    if i % 2 == 1:\n",
    "        odd_numbers_from_my_list.append(i)\n",
    "        \n",
    "odd_numbers_from_my_list"
   ]
  },
  {
   "cell_type": "code",
   "execution_count": 104,
   "metadata": {
    "collapsed": true
   },
   "outputs": [
    {
     "data": {
      "text/plain": [
       "[1, 5, 7, 15, 35]"
      ]
     },
     "execution_count": 104,
     "metadata": {},
     "output_type": "execute_result"
    }
   ],
   "source": [
    "odd_numbers_from_my_list = [i for i in my_list if i % 2 == 1]\n",
    "\n",
    "odd_numbers_from_my_list"
   ]
  },
  {
   "cell_type": "code",
   "execution_count": 105,
   "metadata": {
    "collapsed": true
   },
   "outputs": [
    {
     "data": {
      "text/plain": [
       "[64, 512, 1000, 1728, 4096, 8000, 13824, 21952, 27000, 54872]"
      ]
     },
     "execution_count": 105,
     "metadata": {},
     "output_type": "execute_result"
    }
   ],
   "source": [
    "cubed_even_numbers = []\n",
    "\n",
    "for i in my_list:\n",
    "    if i % 2 == 0:\n",
    "        cubed_even_numbers.append(i ** 3)\n",
    "\n",
    "cubed_even_numbers"
   ]
  },
  {
   "cell_type": "code",
   "execution_count": null,
   "metadata": {},
   "outputs": [],
   "source": [
    "for i in my_list:\n",
    "    "
   ]
  },
  {
   "cell_type": "code",
   "execution_count": 112,
   "metadata": {},
   "outputs": [],
   "source": [
    "cubed_even_num =[]\n",
    "for i in my_list:\n",
    "    if i % 2 == 1:\n",
    "         cubed_even_num.append(i ** 3)\n",
    "    \n",
    "    cubed_even_num"
   ]
  },
  {
   "cell_type": "markdown",
   "metadata": {},
   "source": [
    "# Matplotlib et Seaborn"
   ]
  },
  {
   "cell_type": "markdown",
   "metadata": {},
   "source": [
    "1.Load the iris base and draw a pairplot\n",
    "2.Draw the jointplot of your choice\n",
    "3. Draw the sine function of x by randomly generating 1000 elements between 0 and 10"
   ]
  }
 ],
 "metadata": {
  "kernelspec": {
   "display_name": "Python 3 (ipykernel)",
   "language": "python",
   "name": "python3"
  },
  "language_info": {
   "codemirror_mode": {
    "name": "ipython",
    "version": 3
   },
   "file_extension": ".py",
   "mimetype": "text/x-python",
   "name": "python",
   "nbconvert_exporter": "python",
   "pygments_lexer": "ipython3",
   "version": "3.9.7"
  }
 },
 "nbformat": 4,
 "nbformat_minor": 1
}
